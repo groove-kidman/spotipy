{
 "cells": [
  {
   "cell_type": "code",
   "execution_count": 305,
   "id": "aba2bf26",
   "metadata": {},
   "outputs": [
    {
     "name": "stdout",
     "output_type": "stream",
     "text": [
      "Enter Client ID: 0c58dfbd58f54816b22f0176773daeca\n",
      "Enter Secret: 8bba0e1f78d04ae189a1d0dd76b2bc2a\n"
     ]
    }
   ],
   "source": [
    "import requests\n",
    "import spotipy\n",
    "import pandas as pd\n",
    "from spotipy.oauth2 import SpotifyClientCredentials\n",
    "\n",
    "cid = input('Enter Client ID: ')\n",
    "secret = input('Enter Secret: ')\n",
    "client_credentials_manager = SpotifyClientCredentials(client_id=cid, client_secret=secret)\n",
    "sp = spotipy.Spotify(client_credentials_manager=client_credentials_manager) "
   ]
  },
  {
   "cell_type": "code",
   "execution_count": 306,
   "id": "ba10ca03",
   "metadata": {},
   "outputs": [],
   "source": [
    "track_uri = {\n",
    "    'spotify:track:2IGMVunIBsBLtEQyoI1Mu7',\n",
    "    'spotify:track:1BxfuPKGuaTgP7aM0Bbdwr',\n",
    "    'spotify:track:4rXLjWdF2ZZpXCVTfWcshS',\n",
    "    'spotify:track:78Du4CMFgnhdlG33gblkiP',\n",
    "    'spotify:track:7K3BhSpAxZBznislvUMVtn',\n",
    "    'spotify:track:3k79jB4aGmMDUQzEwa46Rz',\n",
    "    'spotify:track:6wf7Yu7cxBSPrRlWeSeK0Q',\n",
    "    'spotify:track:1vYXt7VSjH9JIM5oRRo7vA',\n",
    "    'spotify:track:2i8f4VnnBjy0yDqH2C452a',\n",
    "    'spotify:track:741UUVE2kuITl0c6zuqqbO'\n",
    "}"
   ]
  },
  {
   "cell_type": "code",
   "execution_count": 307,
   "id": "de86237c",
   "metadata": {},
   "outputs": [],
   "source": [
    "top_songs = pd.DataFrame(sp.audio_features(track_uri))"
   ]
  },
  {
   "cell_type": "code",
   "execution_count": 308,
   "id": "3ec6808e",
   "metadata": {},
   "outputs": [],
   "source": [
    "top_songs.to_excel('top_songs.xlsx')"
   ]
  },
  {
   "cell_type": "code",
   "execution_count": 309,
   "id": "b77002a2",
   "metadata": {
    "scrolled": true
   },
   "outputs": [],
   "source": [
    "top_songs_detail = pd.DataFrame((sp.tracks(track_uri)))"
   ]
  },
  {
   "cell_type": "code",
   "execution_count": 310,
   "id": "fe4ca45f",
   "metadata": {},
   "outputs": [],
   "source": [
    "top_songs_detail.to_excel('top_songs_details.xlsx')"
   ]
  },
  {
   "cell_type": "code",
   "execution_count": null,
   "id": "9b12a3d4",
   "metadata": {},
   "outputs": [],
   "source": []
  }
 ],
 "metadata": {
  "kernelspec": {
   "display_name": "Python 3 (ipykernel)",
   "language": "python",
   "name": "python3"
  },
  "language_info": {
   "codemirror_mode": {
    "name": "ipython",
    "version": 3
   },
   "file_extension": ".py",
   "mimetype": "text/x-python",
   "name": "python",
   "nbconvert_exporter": "python",
   "pygments_lexer": "ipython3",
   "version": "3.9.13"
  }
 },
 "nbformat": 4,
 "nbformat_minor": 5
}
